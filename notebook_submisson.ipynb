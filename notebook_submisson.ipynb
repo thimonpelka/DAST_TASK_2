{
 "cells": [
  {
   "cell_type": "markdown",
   "metadata": {},
   "source": [
    "## DAST Project\n",
    "\n",
    "The following notebook is a modified version of the original notebook I used for a Machine-Learning Lecture. The Codebook contains a lot of descriptions required for the previous task. I just added that the data is now taken from DBRepo instead of a local csv file."
   ]
  },
  {
   "cell_type": "markdown",
   "metadata": {},
   "source": [
    "*DISCLAIMER: I accidently had to use my personal e-mail for DBRepo since I forgot the password for the account I setup with my student mail. All my uploads are made under \"thimon.pelka@gmail.com\" and the username is \"e12123690\". The upload to TUWRD was done with my normal student-account* "
   ]
  },
  {
   "cell_type": "markdown",
   "metadata": {},
   "source": [
    "#### First we have to import all our dependencies and set up the logging"
   ]
  },
  {
   "cell_type": "code",
   "execution_count": 1,
   "metadata": {},
   "outputs": [],
   "source": [
    "import numpy as np\n",
    "from pandas import read_csv\n",
    "import pandas as pd\n",
    "from scipy.fft import fft\n",
    "import matplotlib.pyplot as plt\n",
    "import pickle\n",
    "from dotenv import load_dotenv\n",
    "import os\n",
    "from datetime import datetime\n",
    "import json\n",
    "\n",
    "from sklearn.model_selection import GridSearchCV, RandomizedSearchCV\n",
    "from sklearn.ensemble import RandomForestClassifier\n",
    "from sklearn.tree import DecisionTreeClassifier\n",
    "from sklearn.model_selection import train_test_split\n",
    "from sklearn.metrics import accuracy_score\n",
    "from sklearn.metrics import confusion_matrix, classification_report, ConfusionMatrixDisplay\n",
    "\n",
    "import requests\n",
    "\n",
    "# New import for DAST!\n",
    "from dbrepo.RestClient import RestClient\n",
    "\n",
    "load_dotenv()\n",
    "\n",
    "# Setup DBRepo Client\n",
    "dbrepo_username = os.getenv('dbrepo_username')\n",
    "dbrepo_password = os.getenv('dbrepo_password')\n",
    "tuwrd_token = os.getenv('tuwrd_token')\n",
    "\n",
    "client = RestClient(endpoint=\"https://test.dbrepo.tuwien.ac.at\", username=dbrepo_username, password=dbrepo_password)"
   ]
  },
  {
   "cell_type": "markdown",
   "metadata": {},
   "source": [
    "#### Next we define our necessary helper function. These will help us in the next step when we read in and re-format the given csv files.\n",
    "\n",
    "First we define a function impute_column which overwrites the missing values in a given column with a given value. This function is taken directly from the exercise."
   ]
  },
  {
   "cell_type": "code",
   "execution_count": 29,
   "metadata": {},
   "outputs": [],
   "source": [
    "def impute_column(df, column_name, imp_value):\n",
    "    \"\"\"\n",
    "    Takes the name of a column and a value to impute missing values with\n",
    "    and overwrites the missing values of said column. This should be\n",
    "    done using the .fillna() method, as this automatically overwrites\n",
    "    the values in the underlying data set.\n",
    "\n",
    "    Parameters\n",
    "    ----------\n",
    "    df : DataFrame\n",
    "        our data set\n",
    "    column_name : str\n",
    "        the name of the column you want to handle\n",
    "    imp_value\n",
    "        the value you want to use to overwrite missing values with\n",
    "    \"\"\"\n",
    "    # YOUR CODE HERE\n",
    "    df[column_name] = df[column_name].fillna(imp_value)"
   ]
  },
  {
   "cell_type": "markdown",
   "metadata": {},
   "source": [
    "We also define a min_max_scale function which scales an array to a given lower and upper bound. This is also taken directly from the exercise."
   ]
  },
  {
   "cell_type": "code",
   "execution_count": 30,
   "metadata": {},
   "outputs": [],
   "source": [
    "def min_max_scale(x, a, b):\n",
    "    \"\"\"\n",
    "    Parameters\n",
    "    ----------\n",
    "    x : np.array\n",
    "        data vector\n",
    "    a : int\n",
    "        lower bound of the min-max range\n",
    "    b : int\n",
    "        upper bound of the min-max range\n",
    "\n",
    "    Returns\n",
    "    -------\n",
    "    x : np.array\n",
    "        scaled data vector\n",
    "    \"\"\"\n",
    "    # YOUR CODE HERE\n",
    "    min = np.min(x)\n",
    "    max = np.max(x)\n",
    "\n",
    "    res = a + (((x - min) * (b - a)) / (max - min))\n",
    "\n",
    "    return res"
   ]
  },
  {
   "cell_type": "markdown",
   "metadata": {},
   "source": [
    "As a last function we define extract_fft_features. This function extracts the first few components of the absolute value of the FFT of a given array."
   ]
  },
  {
   "cell_type": "code",
   "execution_count": 31,
   "metadata": {},
   "outputs": [],
   "source": [
    "def extract_fft_features(values, num_components=5):\n",
    "    \"\"\"\n",
    "    Extracts the first few components of the absolute value of the FFT of a given array.\n",
    "\n",
    "    Parameters:\n",
    "    values (array-like): The input array of values to compute the FFT.\n",
    "    num_components (int, optional): The number of FFT components to extract. Defaults to 5.\n",
    "\n",
    "    Returns:\n",
    "    numpy.ndarray: An array containing the first `num_components` absolute values of the FFT.\n",
    "    \"\"\"\n",
    "    fft_features = np.abs(fft(values))[:num_components]\n",
    "    return fft_features\n"
   ]
  },
  {
   "cell_type": "markdown",
   "metadata": {},
   "source": [
    "Now we get to the probably most important function. This function loads a given csv file and pre-processes all the data. Since it took me a while to get good results I did quite a lot of pre-processing steps. First I imputed empty values, min_max_scaled almost all rows and then I grouped the data by their ids. Then I went through all the columns for each dataset and calculate a multitude of features like the mean, std, min, max, etc. I saved all these features and added them to the dataframe."
   ]
  },
  {
   "cell_type": "code",
   "execution_count": 32,
   "metadata": {},
   "outputs": [],
   "source": [
    "def loadData(identifier_id):\n",
    "    # Read in data\n",
    "    # In the original version we would read the data from a csv. Now we use the DB Repo client\n",
    "    #data = read_csv(name)\n",
    "    data = client.get_identifier_data(identifier_id=identifier_id)\n",
    "\n",
    "    # impute window_id\n",
    "    impute_column(data, \"window_id\", -1)\n",
    "\n",
    "    # iterate over numerical columns and impute them# Try converting all columns to numeric, non-convertible entries become NaN\n",
    "    data = data.apply(pd.to_numeric, errors=\"coerce\")\n",
    "\n",
    "    # Now select numeric columns again after coercion\n",
    "    numeric_columns = data.select_dtypes(include=[\"number\"]).columns\n",
    "    for c in numeric_columns:\n",
    "        # val = np.min(data[c])\n",
    "        impute_column(data, c, -1)\n",
    "\n",
    "\n",
    "    # iterate over all columns and min_max_scale them, but skip id and\n",
    "    # column label as we do not want to manipulate them\n",
    "    for c in numeric_columns:\n",
    "        if c in [\"id\", \"label\"]:\n",
    "            #print(\"Skipping column: \" + c)\n",
    "            continue\n",
    "\n",
    "        data[c] = min_max_scale(data[c], 0, 1)\n",
    "\n",
    "    # Extract temporal features for each sequence\n",
    "    features_per_sequence = []\n",
    "\n",
    "    # Group elements by id and iterate over each id\n",
    "    for id_group in data.groupby(\"id\"):\n",
    "\n",
    "        sequence = id_group[1].copy()\n",
    "        sequence[\"window_id\"] = pd.to_numeric(sequence[\"window_id\"], errors=\"coerce\")\n",
    "        # Setup Sequencing\n",
    "        sequence = sequence.sort_values(\"window_id\")\n",
    "        sequence_features = {\"id\": id_group[0]}\n",
    "\n",
    "        # Original features\n",
    "        for col in numeric_columns:\n",
    "            if col not in [\"id\", \"label\", \"window_id\"]:\n",
    "                values = sequence[col].values\n",
    "\n",
    "                # Base statistical features\n",
    "                sequence_features.update({\n",
    "                    f\"{col}_mean\": np.mean(values),\n",
    "                    f\"{col}_std\": np.std(values),\n",
    "                    f\"{col}_max\": np.max(values),\n",
    "                    f\"{col}_min\": np.min(values),\n",
    "                    f\"{col}_median\": np.median(values),\n",
    "                    f\"{col}_last_value\": values[-1],\n",
    "                    f\"{col}_value_change\": values[-1] - values[0],\n",
    "                })\n",
    "\n",
    "                # FFT features\n",
    "                fft_features = extract_fft_features(values)\n",
    "                for i, feat in enumerate(fft_features):\n",
    "                    sequence_features[f\"{col}_fft_{i}\"] = feat\n",
    "\n",
    "                # Non-linear transformations\n",
    "                sequence_features[f\"{col}_squared\"] = np.mean(values ** 2)\n",
    "                sequence_features[f\"{col}_cubed\"] = np.mean(values ** 3)\n",
    "\n",
    "        if \"label\" in sequence:\n",
    "            sequence_features[\"label\"] = sequence[\"label\"].iloc[0]\n",
    "\n",
    "        features_per_sequence.append(sequence_features)\n",
    "\n",
    "    # Create pandas df out of extracted features\n",
    "    result_df = pd.DataFrame(features_per_sequence)\n",
    "\n",
    "    # if label exists in the pandas df (= we have a training set) then extract features...\n",
    "    if \"label\" in result_df.columns:\n",
    "        labels = result_df[\"label\"]\n",
    "        features = result_df.drop(columns=[\"label\"])\n",
    "        return features, labels\n",
    "\n",
    "    # ... else just return the df\n",
    "    return result_df, []"
   ]
  },
  {
   "cell_type": "markdown",
   "metadata": {},
   "source": [
    "Since we want to use Hyperparameter tuning we have to set up our Grid Search. I did this for both a random forest classifier as well as a decision tree classifier"
   ]
  },
  {
   "cell_type": "code",
   "execution_count": 33,
   "metadata": {},
   "outputs": [],
   "source": [
    "# Define parameter grid for Random Forest Classifier\n",
    "param_grid_rfc = {\n",
    "    'n_estimators': [100, 200, 300],\n",
    "    'max_depth': [None, 10, 20, 30],\n",
    "    'min_samples_split': [2, 5, 10],\n",
    "    'min_samples_leaf': [1, 2, 4]\n",
    "}\n",
    "\n",
    "# Initialize GridSearchCV for Random Forest Classifier\n",
    "grid_search_rfc = GridSearchCV(\n",
    "    estimator=RandomForestClassifier(random_state=42),\n",
    "    param_grid=param_grid_rfc,\n",
    "    cv=5,\n",
    "    n_jobs=-1,\n",
    "    verbose=2\n",
    ")\n",
    "\n",
    "# Define parameter grid for Decision Tree Classifier\n",
    "param_grid_dtc = {\n",
    "    'criterion': ['gini', 'entropy'],\n",
    "    'max_depth': [None, 10, 20, 30],\n",
    "    'min_samples_split': [2, 5, 10],\n",
    "    'min_samples_leaf': [1, 2, 4]\n",
    "}\n",
    "\n",
    "# Initialize GridSearchCV for Decision Tree Classifier\n",
    "grid_search_dtc = GridSearchCV(\n",
    "    estimator=DecisionTreeClassifier(random_state=42),\n",
    "    param_grid=param_grid_dtc,\n",
    "    cv=5,\n",
    "    n_jobs=-1,\n",
    "    verbose=2\n",
    ")"
   ]
  },
  {
   "cell_type": "markdown",
   "metadata": {},
   "source": [
    "Now we load the data and split the training data into a training and a test set"
   ]
  },
  {
   "cell_type": "code",
   "execution_count": 34,
   "metadata": {},
   "outputs": [
    {
     "name": "stdout",
     "output_type": "stream",
     "text": [
      "Data loaded and split.\n"
     ]
    }
   ],
   "source": [
    "data_train_features, data_train_labels = loadData(\"f8c073c6-9bd9-4cdf-965f-6f0733c91b86\")\n",
    "\n",
    "# Split the training data into train and validation sets\n",
    "X_train, X_val, y_train, y_val = train_test_split(\n",
    "    data_train_features, data_train_labels, test_size=0.2, random_state=42\n",
    ")\n",
    "\n",
    "print(\"Data loaded and split.\")"
   ]
  },
  {
   "cell_type": "markdown",
   "metadata": {},
   "source": [
    "Next we train our models and test their accuracy. We will print the accuracy of the models and display the confusion matrix using matplotlib. This is first done for a Random Forest Classifer Model..."
   ]
  },
  {
   "cell_type": "code",
   "execution_count": 37,
   "metadata": {},
   "outputs": [
    {
     "name": "stdout",
     "output_type": "stream",
     "text": [
      "Fitting 5 folds for each of 108 candidates, totalling 540 fits\n"
     ]
    },
    {
     "name": "stderr",
     "output_type": "stream",
     "text": [
      "c:\\Users\\thimo\\.conda\\envs\\opop-iter-3\\Lib\\site-packages\\sklearn\\model_selection\\_split.py:805: UserWarning: The least populated class in y has only 3 members, which is less than n_splits=5.\n",
      "  warnings.warn(\n"
     ]
    },
    {
     "name": "stdout",
     "output_type": "stream",
     "text": [
      "Validation Accuracy Random Forest: 95.24%\n"
     ]
    },
    {
     "data": {
      "image/png": "[encoded data removed]",
      "text/plain": [
       "<Figure size 640x480 with 2 Axes>"
      ]
     },
     "metadata": {},
     "output_type": "display_data"
    }
   ],
   "source": [
    "# Train the random forest model\n",
    "grid_search_rfc.fit(X_train, y_train)\n",
    "\n",
    "# Get best estimator\n",
    "best_model_rfc = grid_search_rfc.best_estimator_\n",
    "\n",
    "# Save the model to disk\n",
    "with open('best_model_random_forest_classifier.pkl', 'wb') as file:\n",
    "  pickle.dump(best_model_rfc, file)\n",
    "\n",
    "# Evaluate on the validation set\n",
    "y_val_pred_rfc = best_model_rfc.predict(X_val)\n",
    "\n",
    "# Calculate Accuracy\n",
    "accuracy_rfc = accuracy_score(y_val, y_val_pred_rfc)\n",
    "print(f\"Validation Accuracy Random Forest: {accuracy_rfc:.2%}\")\n",
    "\n",
    "# Compute the confusion matrix\n",
    "conf_matrix_rfc = confusion_matrix(y_val, y_val_pred_rfc)\n",
    "\n",
    "# Display the confusion matrix\n",
    "# Get only the labels present in the validation data\n",
    "labels_in_val = np.unique(np.concatenate((y_val, y_val_pred_rfc)))\n",
    "\n",
    "disp_rfc = ConfusionMatrixDisplay(confusion_matrix=conf_matrix_rfc, display_labels=labels_in_val)\n",
    "disp_rfc.plot(cmap=plt.cm.Blues)\n",
    "plt.title(\"Confusion Matrix - Validation Set\")\n",
    "\n",
    "plt.savefig(\"confusion_matrix_random_forest_classifier.png\", dpi=300, bbox_inches='tight')\n",
    "\n",
    "plt.show()\n",
    "\n",
    "# Print classification report\n",
    "report = classification_report(y_val, y_val_pred_rfc)"
   ]
  },
  {
   "cell_type": "markdown",
   "metadata": {},
   "source": [
    "... and a Decision Tree Classifier Model."
   ]
  },
  {
   "cell_type": "code",
   "execution_count": 38,
   "metadata": {},
   "outputs": [
    {
     "name": "stdout",
     "output_type": "stream",
     "text": [
      "Fitting 5 folds for each of 72 candidates, totalling 360 fits\n"
     ]
    },
    {
     "name": "stderr",
     "output_type": "stream",
     "text": [
      "c:\\Users\\thimo\\.conda\\envs\\opop-iter-3\\Lib\\site-packages\\sklearn\\model_selection\\_split.py:805: UserWarning: The least populated class in y has only 3 members, which is less than n_splits=5.\n",
      "  warnings.warn(\n"
     ]
    },
    {
     "name": "stdout",
     "output_type": "stream",
     "text": [
      "Validation Accuracy Decision Tree: 76.19%\n"
     ]
    },
    {
     "data": {
      "image/png": "[encoded data removed]",
      "text/plain": [
       "<Figure size 640x480 with 2 Axes>"
      ]
     },
     "metadata": {},
     "output_type": "display_data"
    }
   ],
   "source": [
    "# Train the decision tree model\n",
    "grid_search_dtc.fit(X_train, y_train)\n",
    "\n",
    "# Get best estimator\n",
    "best_model_dtc = grid_search_dtc.best_estimator_\n",
    "\n",
    "# Save the model to disk\n",
    "with open('best_model_decision_tree_classifier.pkl', 'wb') as file:\n",
    "  pickle.dump(best_model_rfc, file)\n",
    "\n",
    "# Evaluate on the validation set\n",
    "y_val_pred_dtc = best_model_dtc.predict(X_val)\n",
    "\n",
    "# Calculate Accuracy\n",
    "accuracy_dtc = accuracy_score(y_val, y_val_pred_dtc)\n",
    "print(f\"Validation Accuracy Decision Tree: {accuracy_dtc:.2%}\")\n",
    "\n",
    "# Compute the confusion matrix\n",
    "conf_matrix_dtc = confusion_matrix(y_val, y_val_pred_dtc)\n",
    "\n",
    "# Display the confusion matrix\n",
    "disp_dtc = ConfusionMatrixDisplay(confusion_matrix=conf_matrix_dtc, display_labels=best_model_dtc.classes_)\n",
    "disp_dtc.plot(cmap=plt.cm.Blues)\n",
    "plt.title(\"Confusion Matrix - Validation Set\")\n",
    "\n",
    "plt.savefig(\"confusion_matrix_decision_tree_classifier.png\", dpi=300, bbox_inches='tight')\n",
    "\n",
    "plt.show()\n",
    "\n",
    "# Print classification report\n",
    "report = classification_report(y_val, y_val_pred_dtc, zero_division=0)"
   ]
  },
  {
   "cell_type": "markdown",
   "metadata": {},
   "source": [
    "As we see the Random Forest Model performs way better. For this reason we will continue using it for the competition data set. In the following code we use the model to predict the test data set for the competition and save the results in a .csv file we can then submit"
   ]
  },
  {
   "cell_type": "code",
   "execution_count": 27,
   "metadata": {},
   "outputs": [
    {
     "name": "stdout",
     "output_type": "stream",
     "text": [
      "Script finished. Saved data to rocketskillshots_test_predicted.csv\n"
     ]
    }
   ],
   "source": [
    "# Load test data\n",
    "data_test_features, _ = loadData(\"8941f010-de28-40b4-94e1-72fa6be1156f\")\n",
    "\n",
    "# Get prediction\n",
    "y_test_pred = best_model_rfc.predict(data_test_features)\n",
    "\n",
    "# Setup output data\n",
    "data_test_features[\"label\"] = y_test_pred\n",
    "\n",
    "# Create a copy of the desired columns to avoid SettingWithCopyWarning\n",
    "output = data_test_features[[\"id\", \"label\"]].copy()\n",
    "\n",
    "# Rename 'id' column to 'ID' to conform to submission format\n",
    "output.rename(columns={'id': 'ID'}, inplace=True)\n",
    "\n",
    "filename = \"rocketskillshots_test_predicted.csv\"\n",
    "\n",
    "# Save Data\n",
    "output.to_csv(filename, index=False)\n",
    "\n",
    "print(\"Script finished. Saved data to \" + filename)"
   ]
  },
  {
   "cell_type": "markdown",
   "metadata": {},
   "source": [
    "Upload results to TUWRD.\n",
    "\n",
    "Create a new draft:"
   ]
  },
  {
   "cell_type": "code",
   "execution_count": null,
   "metadata": {},
   "outputs": [
    {
     "name": "stdout",
     "output_type": "stream",
     "text": [
      "Succesfully created draft at TUWRD. Draft has id m0bmw-8fk56\n"
     ]
    }
   ],
   "source": [
    "url = \"https://test.researchdata.tuwien.at/api/records\"\n",
    "\n",
    "headers = {\n",
    "    \"Authorization\": f\"Bearer {tuwrd_token}\",\n",
    "    \"Content-Type\": \"application/json\"\n",
    "}\n",
    "data = {\n",
    "    \"metadata\": {\n",
    "        \"creators\": [\n",
    "            {\n",
    "                \"person_or_org\": {\n",
    "                    \"family_name\": \"Pelka\",\n",
    "                    \"given_name\": \"Thimon\",\n",
    "                    \"type\": \"personal\",\n",
    "                }\n",
    "            }\n",
    "        ],\n",
    "        \"publication_date\": datetime.today().strftime('%Y-%m-%d'),\n",
    "        \"publisher\": \"TU Wien\",\n",
    "        \"resource_type\": {\"id\": \"dataset\"},\n",
    "        \"title\": \"Rocket League Skillshot Prediction\",\n",
    "        \"description\": \"Output of a Machine-Learning task which predicts Rocket League skillshots based on the last 30 frames before a goal was scored.\"\n",
    "    },\n",
    "    \"files\": {\"enabled\": True},\n",
    "}\n",
    "\n",
    "response = requests.post(url, json=data, headers=headers)\n",
    "\n",
    "pretty_json = json.dumps(response.json(), indent=4)\n",
    "\n",
    "if \"status\" in response.json() and response.json()[\"status\"] == \"draft\":\n",
    "    print(f\"Succesfully created draft at TUWRD. Draft has id {response.json()[\"id\"]}\")\n",
    "else:\n",
    "    print(f\"An error occured during creating of draft at TUWRD. See the following response:\\n\", pretty_json)\n",
    "\n",
    "id = response.json()[\"id\"]\n"
   ]
  },
  {
   "cell_type": "markdown",
   "metadata": {},
   "source": [
    "Upload Files to Draft"
   ]
  },
  {
   "cell_type": "code",
   "execution_count": 28,
   "metadata": {},
   "outputs": [
    {
     "name": "stdout",
     "output_type": "stream",
     "text": [
      "Succesfully uploaded best_model_random_forest_classifier.pkl\n",
      "Succesfully uploaded best_model_decision_tree_classifier.pkl\n",
      "Succesfully uploaded confusion_matrix_random_forest_classifier.png\n",
      "Succesfully uploaded confusion_matrix_decision_tree_classifier.png\n",
      "Succesfully uploaded rocketskillshots_test_predicted.csv\n"
     ]
    }
   ],
   "source": [
    "def upload_file(filename, id):\n",
    "    # Initialize fileupload\n",
    "    response = initialize_file_upload(filename, id)\n",
    "\n",
    "    if (\"status\" in response and response[\"status\"] != 'completed'):\n",
    "        print(f\"Problem during initialization of upload of {filename}:\\n\", json.dumps(response, indent=4))\n",
    "        return\n",
    "\n",
    "    # Upload file\n",
    "    response = upload_file_content(filename, id)\n",
    "\n",
    "    if (\"status\" in response and response[\"status\"] != 'pending'):\n",
    "        print(f\"Problem during uploading of file content of {filename}:\\n\", json.dumps(response, indent=4))\n",
    "        return\n",
    "\n",
    "    # Commit draft file upload\n",
    "    response = commit_draft_file_upload(filename, id)\n",
    "\n",
    "    if (\"status\" in response and response[\"status\"] != 'completed'):\n",
    "        print(f\"Problem during committing of draft file for {filename}:\\n\", json.dumps(response, indent=4))\n",
    "        return\n",
    "\n",
    "    print(f\"Succesfully uploaded {filename}\")\n",
    "\n",
    "def commit_draft_file_upload(filename, id):\n",
    "    url = f\"https://test.researchdata.tuwien.at/api/records/{id}/draft/files/{filename}/commit\"\n",
    "    headers = {\n",
    "        \"Authorization\": f\"Bearer {tuwrd_token}\",\n",
    "    }\n",
    "\n",
    "    response = requests.post(url, headers=headers)\n",
    "\n",
    "    return response.json()\n",
    "\n",
    "\n",
    "def upload_file_content(filename, id):\n",
    "    url = f\"https://test.researchdata.tuwien.at/api/records/{id}/draft/files/{filename}/content\"\n",
    "    headers = {\n",
    "        \"Authorization\": f\"Bearer {tuwrd_token}\",\n",
    "        \"Content-Type\": \"application/octet-stream\"\n",
    "    }\n",
    "\n",
    "    with open(f\"{filename}\", \"rb\") as file_data:\n",
    "        response = requests.put(url, headers=headers, data=file_data)\n",
    "\n",
    "    return response.json()\n",
    "\n",
    "\n",
    "def initialize_file_upload(filename, id):\n",
    "    url = f\"https://test.researchdata.tuwien.at/api/records/{id}/draft/files\"\n",
    "\n",
    "    headers = {\n",
    "        \"Authorization\": f\"Bearer {tuwrd_token}\",\n",
    "        \"Content-Type\": \"application/json\"\n",
    "    }\n",
    "    data = [\n",
    "        {\n",
    "            \"key\": f\"{filename}\"\n",
    "        }\n",
    "    ]\n",
    "\n",
    "    response = requests.post(url, json=data, headers=headers)\n",
    "\n",
    "    return response.json()\n",
    "\n",
    "\n",
    "files_to_upload = [\n",
    "    \"best_model_random_forest_classifier.pkl\",\n",
    "    \"best_model_decision_tree_classifier.pkl\",\n",
    "    \"confusion_matrix_random_forest_classifier.png\",\n",
    "    \"confusion_matrix_decision_tree_classifier.png\",\n",
    "    \"rocketskillshots_test_predicted.csv\"\n",
    "]\n",
    "\n",
    "for file in files_to_upload:\n",
    "    upload_file(file, id)"
   ]
  },
  {
   "cell_type": "markdown",
   "metadata": {},
   "source": [
    "Updating the remaining metadata is (according to the task-description) supposed/allowed to be done using the graphical user interface of TUWRD. Due to this condition the notebook ends here as everything its supposed to do is completed."
   ]
  }
 ],
 "metadata": {
  "kernelspec": {
   "display_name": "opop-iter-3",
   "language": "python",
   "name": "python3"
  },
  "language_info": {
   "codemirror_mode": {
    "name": "ipython",
    "version": 3
   },
   "file_extension": ".py",
   "mimetype": "text/x-python",
   "name": "python",
   "nbconvert_exporter": "python",
   "pygments_lexer": "ipython3",
   "version": "3.13.1"
  }
 },
 "nbformat": 4,
 "nbformat_minor": 2
}
